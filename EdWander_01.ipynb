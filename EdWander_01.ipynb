{
  "nbformat": 4,
  "nbformat_minor": 0,
  "metadata": {
    "colab": {
      "name": "EdWander_01.ipynb",
      "provenance": [],
      "collapsed_sections": [],
      "authorship_tag": "ABX9TyMwDE5+AvohKdMj1JI5/+sk",
      "include_colab_link": true
    },
    "kernelspec": {
      "name": "python3",
      "display_name": "Python 3"
    }
  },
  "cells": [
    {
      "cell_type": "markdown",
      "metadata": {
        "id": "view-in-github",
        "colab_type": "text"
      },
      "source": [
        "<a href=\"https://colab.research.google.com/github/Edy940/repo3/blob/master/EdWander_01.ipynb\" target=\"_parent\"><img src=\"https://colab.research.google.com/assets/colab-badge.svg\" alt=\"Open In Colab\"/></a>"
      ]
    },
    {
      "cell_type": "code",
      "metadata": {
        "id": "-cTvFkpu1DGz",
        "colab_type": "code",
        "colab": {
          "base_uri": "https://localhost:8080/",
          "height": 51
        },
        "outputId": "b3228c44-5698-4fec-f7e2-945f9dde6471"
      },
      "source": [
        "### Isto é um comando de saída\n",
        "print('olá mundo cruel!!')\n",
        "print('Cruel word!!')\n",
        "# a hastag é um comentário no códigp, ou seja, o programa não irá processar nenhuma linha que estiver marcada \n",
        "# o comando print () mostra na tela, ou seja, é uma saída de valores\n",
        "#o conteúdo texto deve estar enree aspas ( simples pu dupla)\n",
        "\n",
        "\n"
      ],
      "execution_count": 1,
      "outputs": [
        {
          "output_type": "stream",
          "text": [
            "olá mundo cruel!!\n",
            "Cruel word!!\n"
          ],
          "name": "stdout"
        }
      ]
    },
    {
      "cell_type": "code",
      "metadata": {
        "id": "KLX1PwOG3eM2",
        "colab_type": "code",
        "colab": {}
      },
      "source": [
        ""
      ],
      "execution_count": null,
      "outputs": []
    },
    {
      "cell_type": "markdown",
      "metadata": {
        "id": "CRep1l-B4jug",
        "colab_type": "text"
      },
      "source": [
        "Esta é uma célula somente de texto.\n"
      ]
    }
  ]
}